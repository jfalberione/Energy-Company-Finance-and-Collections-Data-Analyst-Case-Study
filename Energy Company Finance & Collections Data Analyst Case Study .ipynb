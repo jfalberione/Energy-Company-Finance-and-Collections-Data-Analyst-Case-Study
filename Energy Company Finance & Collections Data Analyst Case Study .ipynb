{
 "cells": [
  {
   "cell_type": "markdown",
   "id": "6c48591b",
   "metadata": {},
   "source": [
    "# Energy Company Finance & Collections Data Analyst Case Study "
   ]
  },
  {
   "cell_type": "markdown",
   "id": "18aa38a9",
   "metadata": {},
   "source": [
    "### Problem\n",
    "\n",
    "You’ve been asked by the management team to look into ways of categorising and forecasting debt for a group of customers. \n",
    "In particular, they would like you to:\n",
    "1. Using SQL only, from the transactions table, find the total value of payments made in December 2020\n",
    "\n",
    "\n",
    "2. Using the balances table, you have been given the opening balance of customers in July 2020, describe the differences in opening balance across all of the customers, feel free to support your answer with graphs to highlight your points.\n",
    "\n",
    "\n",
    "3. A customer’s closing balance is determined by adding payments and subtracting charges to their opening balance. Using the  balances table to determine a customer’s opening balance, and the transactions table to determine their payments and charges,  illustrate a) a plot of a single customer’s (cust_id: 951) balance for each month and b) determine whether the following customers (927, 1337, 3217, 4718) are paying sufficient amounts to ensure their closing balance in July 2021 is not lower than their opening balance in July 2020\n",
    "\n",
    "\n",
    "4. Given a price increase of 10% at the end of July 2020, calculate an estimate for what each customer’s closing balance will be in July 2021, assuming payment amounts stay the same. What proportion will have become debtors (having a positive opening balance in July 2020 and then having a closing negative balance in July 2021)?\n",
    "\n",
    "\n",
    "5. Any other insight you can extract \n",
    "\n",
    "\n",
    "If you have time, the management team would like to understand which customers are paying the correct Direct Debit amount (note this only applies to Fixed Direct Debit customers). \n",
    "For the customers in question 3, part b) of those which are paying insufficient amounts, what value should the payment amount be increased to so that the closing balance in July 2021 is not less than the opening balance in July 2020? When do you think would be the best time of year to change the payment amount?\n",
    "\n",
    "### Data\n",
    "\n",
    "You’ve been provided with sql database containing 2 tables:\n",
    "\n",
    "* ***Balance*** - the opening balance for sample of customers from July 2020 :\n",
    "* cust_id - unique customer id\n",
    "* report_date - the date the opening balance was determined\n",
    "* sales_channel - the unique identifier of the sales channel through which the customer was acquired. This has been anonymised for commercial reasons\n",
    "* balance_issued - the opening balance of the customer’s account. Positive values indicate a customer is in credit (the company owe the customer), negative values indicate the customer is in debt (customer owes to the company)\n",
    "* payment_method - the categorisation of payment method of the customer. Fixed DD stands for Fixed Direct Debit, POROB stands for ‘Payment on Receipt of Bill’\n",
    "\n",
    "\n",
    "* ***Transactions*** - the charges and payments made between July 2020 and July 2021\n",
    "* cust_id - unique customer id\n",
    "* transaction_date - date of the charge or payment\n",
    "* transaction_type - whether the transaction is a charge or payment. Note charges equate to the cost amount, in pounds, of energy used for either Gas or Electricity (i.e. if a customer consumes both, they will receive two separate charges, one for each fuel type, usually these charges are received once a month although the frequency can differ)\n",
    "* amount_in_pounds - the sterling value of the transaction\n"
   ]
  },
  {
   "cell_type": "code",
   "execution_count": 1,
   "id": "eca612e1",
   "metadata": {},
   "outputs": [],
   "source": [
    "# Import all the libraries\n",
    "import numpy as np\n",
    "import pandas as pd\n",
    "import matplotlib.pyplot as plt\n",
    "import seaborn as sns\n",
    "import sqlalchemy"
   ]
  },
  {
   "cell_type": "code",
   "execution_count": 2,
   "id": "1be5ed9c",
   "metadata": {},
   "outputs": [],
   "source": [
    "# Enables to run SQLite queries directly \n",
    "%load_ext sql"
   ]
  },
  {
   "cell_type": "code",
   "execution_count": 3,
   "id": "19e825a2",
   "metadata": {},
   "outputs": [
    {
     "data": {
      "text/plain": [
       "Engine(sqlite:///case_study.db)"
      ]
     },
     "execution_count": 3,
     "metadata": {},
     "output_type": "execute_result"
    }
   ],
   "source": [
    "sqlalchemy.create_engine('sqlite:///case_study.db')"
   ]
  },
  {
   "cell_type": "code",
   "execution_count": 4,
   "id": "1eb3e9f0",
   "metadata": {},
   "outputs": [],
   "source": [
    "%sql sqlite:///case_study.db\n"
   ]
  },
  {
   "cell_type": "markdown",
   "id": "7bfdc016",
   "metadata": {},
   "source": [
    "### Check for missing values in both tables"
   ]
  },
  {
   "cell_type": "code",
   "execution_count": 5,
   "id": "7aaf4f28",
   "metadata": {},
   "outputs": [
    {
     "name": "stdout",
     "output_type": "stream",
     "text": [
      " * sqlite:///case_study.db\n",
      "Done.\n"
     ]
    },
    {
     "data": {
      "text/html": [
       "<table>\n",
       "    <thead>\n",
       "        <tr>\n",
       "            <th>COUNT(*)</th>\n",
       "        </tr>\n",
       "    </thead>\n",
       "    <tbody>\n",
       "        <tr>\n",
       "            <td>0</td>\n",
       "        </tr>\n",
       "    </tbody>\n",
       "</table>"
      ],
      "text/plain": [
       "[(0,)]"
      ]
     },
     "execution_count": 5,
     "metadata": {},
     "output_type": "execute_result"
    }
   ],
   "source": [
    "%%sql\n",
    "SELECT COUNT(*) \n",
    "FROM balance \n",
    "WHERE report_date + sales_channel + balance_issued + payment_method + cust_id IS NULL;"
   ]
  },
  {
   "cell_type": "code",
   "execution_count": 6,
   "id": "0ce48acb",
   "metadata": {},
   "outputs": [
    {
     "name": "stdout",
     "output_type": "stream",
     "text": [
      " * sqlite:///case_study.db\n",
      "Done.\n"
     ]
    },
    {
     "data": {
      "text/html": [
       "<table>\n",
       "    <thead>\n",
       "        <tr>\n",
       "            <th>COUNT(*)</th>\n",
       "        </tr>\n",
       "    </thead>\n",
       "    <tbody>\n",
       "        <tr>\n",
       "            <td>0</td>\n",
       "        </tr>\n",
       "    </tbody>\n",
       "</table>"
      ],
      "text/plain": [
       "[(0,)]"
      ]
     },
     "execution_count": 6,
     "metadata": {},
     "output_type": "execute_result"
    }
   ],
   "source": [
    "%%sql\n",
    "SELECT COUNT(*) \n",
    "FROM transactions \n",
    "WHERE transaction_date + transaction_type + amount_in_pounds + cust_id IS NULL;"
   ]
  },
  {
   "cell_type": "markdown",
   "id": "a162770f",
   "metadata": {},
   "source": [
    "### 1. Using SQL only, from the transactions table, find the total value of payments made in December 2020"
   ]
  },
  {
   "cell_type": "code",
   "execution_count": 7,
   "id": "a8f745a5",
   "metadata": {},
   "outputs": [
    {
     "name": "stdout",
     "output_type": "stream",
     "text": [
      " * sqlite:///case_study.db\n",
      "Done.\n"
     ]
    },
    {
     "data": {
      "text/html": [
       "<table>\n",
       "    <thead>\n",
       "        <tr>\n",
       "            <th>Total payments December 2020</th>\n",
       "        </tr>\n",
       "    </thead>\n",
       "    <tbody>\n",
       "        <tr>\n",
       "            <td>306405.22</td>\n",
       "        </tr>\n",
       "    </tbody>\n",
       "</table>"
      ],
      "text/plain": [
       "[(306405.22,)]"
      ]
     },
     "execution_count": 7,
     "metadata": {},
     "output_type": "execute_result"
    }
   ],
   "source": [
    "%%sql\n",
    "SELECT SUM(amount_in_pounds) AS 'Total payments December 2020' \n",
    "FROM transactions \n",
    "WHERE transaction_date BETWEEN '2020-12-01 00:00:00' AND '2020-12-31 00:00:00' AND transaction_type = 'accountpayment'"
   ]
  },
  {
   "cell_type": "markdown",
   "id": "01dc0232",
   "metadata": {},
   "source": [
    "The total Value of payments made in December 2020 is 306405.22 pounds"
   ]
  },
  {
   "cell_type": "markdown",
   "id": "b21ae1a0",
   "metadata": {},
   "source": [
    "### 2. Using the balances table, you have been given the opening balance of customers in July 2020, describe the differences in opening balance across all of the customers, feel free to support your answer with graphs to highlight your points"
   ]
  },
  {
   "cell_type": "code",
   "execution_count": 8,
   "id": "b5ac25c6",
   "metadata": {},
   "outputs": [
    {
     "data": {
      "text/html": [
       "<div>\n",
       "<style scoped>\n",
       "    .dataframe tbody tr th:only-of-type {\n",
       "        vertical-align: middle;\n",
       "    }\n",
       "\n",
       "    .dataframe tbody tr th {\n",
       "        vertical-align: top;\n",
       "    }\n",
       "\n",
       "    .dataframe thead th {\n",
       "        text-align: right;\n",
       "    }\n",
       "</style>\n",
       "<table border=\"1\" class=\"dataframe\">\n",
       "  <thead>\n",
       "    <tr style=\"text-align: right;\">\n",
       "      <th></th>\n",
       "      <th>report_date</th>\n",
       "      <th>sales_channel</th>\n",
       "      <th>balance_issued</th>\n",
       "      <th>payment_method</th>\n",
       "      <th>cust_id</th>\n",
       "    </tr>\n",
       "  </thead>\n",
       "  <tbody>\n",
       "    <tr>\n",
       "      <th>0</th>\n",
       "      <td>2020-07-31 00:00:00</td>\n",
       "      <td>A</td>\n",
       "      <td>317.04</td>\n",
       "      <td>Fixed DD</td>\n",
       "      <td>4718</td>\n",
       "    </tr>\n",
       "    <tr>\n",
       "      <th>1</th>\n",
       "      <td>2020-07-31 00:00:00</td>\n",
       "      <td>D</td>\n",
       "      <td>-94.22</td>\n",
       "      <td>Fixed DD</td>\n",
       "      <td>4588</td>\n",
       "    </tr>\n",
       "    <tr>\n",
       "      <th>2</th>\n",
       "      <td>2020-07-31 00:00:00</td>\n",
       "      <td>D</td>\n",
       "      <td>70.89</td>\n",
       "      <td>Fixed DD</td>\n",
       "      <td>4493</td>\n",
       "    </tr>\n",
       "    <tr>\n",
       "      <th>3</th>\n",
       "      <td>2020-07-31 00:00:00</td>\n",
       "      <td>A</td>\n",
       "      <td>425.82</td>\n",
       "      <td>Fixed DD</td>\n",
       "      <td>6162</td>\n",
       "    </tr>\n",
       "    <tr>\n",
       "      <th>4</th>\n",
       "      <td>2020-07-31 00:00:00</td>\n",
       "      <td>A</td>\n",
       "      <td>311.73</td>\n",
       "      <td>Fixed DD</td>\n",
       "      <td>3217</td>\n",
       "    </tr>\n",
       "    <tr>\n",
       "      <th>...</th>\n",
       "      <td>...</td>\n",
       "      <td>...</td>\n",
       "      <td>...</td>\n",
       "      <td>...</td>\n",
       "      <td>...</td>\n",
       "    </tr>\n",
       "    <tr>\n",
       "      <th>3632</th>\n",
       "      <td>2020-07-31 00:00:00</td>\n",
       "      <td>C</td>\n",
       "      <td>195.33</td>\n",
       "      <td>Fixed DD</td>\n",
       "      <td>2281</td>\n",
       "    </tr>\n",
       "    <tr>\n",
       "      <th>3633</th>\n",
       "      <td>2020-07-31 00:00:00</td>\n",
       "      <td>D</td>\n",
       "      <td>289.72</td>\n",
       "      <td>Fixed DD</td>\n",
       "      <td>3946</td>\n",
       "    </tr>\n",
       "    <tr>\n",
       "      <th>3634</th>\n",
       "      <td>2020-07-31 00:00:00</td>\n",
       "      <td>D</td>\n",
       "      <td>0.03</td>\n",
       "      <td>POROB</td>\n",
       "      <td>1748</td>\n",
       "    </tr>\n",
       "    <tr>\n",
       "      <th>3635</th>\n",
       "      <td>2020-07-31 00:00:00</td>\n",
       "      <td>D</td>\n",
       "      <td>226.41</td>\n",
       "      <td>Fixed DD</td>\n",
       "      <td>871</td>\n",
       "    </tr>\n",
       "    <tr>\n",
       "      <th>3636</th>\n",
       "      <td>2020-07-31 00:00:00</td>\n",
       "      <td>A</td>\n",
       "      <td>227.40</td>\n",
       "      <td>Fixed DD</td>\n",
       "      <td>1855</td>\n",
       "    </tr>\n",
       "  </tbody>\n",
       "</table>\n",
       "<p>3637 rows × 5 columns</p>\n",
       "</div>"
      ],
      "text/plain": [
       "              report_date sales_channel  balance_issued payment_method  \\\n",
       "0     2020-07-31 00:00:00             A          317.04       Fixed DD   \n",
       "1     2020-07-31 00:00:00             D          -94.22       Fixed DD   \n",
       "2     2020-07-31 00:00:00             D           70.89       Fixed DD   \n",
       "3     2020-07-31 00:00:00             A          425.82       Fixed DD   \n",
       "4     2020-07-31 00:00:00             A          311.73       Fixed DD   \n",
       "...                   ...           ...             ...            ...   \n",
       "3632  2020-07-31 00:00:00             C          195.33       Fixed DD   \n",
       "3633  2020-07-31 00:00:00             D          289.72       Fixed DD   \n",
       "3634  2020-07-31 00:00:00             D            0.03          POROB   \n",
       "3635  2020-07-31 00:00:00             D          226.41       Fixed DD   \n",
       "3636  2020-07-31 00:00:00             A          227.40       Fixed DD   \n",
       "\n",
       "      cust_id  \n",
       "0        4718  \n",
       "1        4588  \n",
       "2        4493  \n",
       "3        6162  \n",
       "4        3217  \n",
       "...       ...  \n",
       "3632     2281  \n",
       "3633     3946  \n",
       "3634     1748  \n",
       "3635      871  \n",
       "3636     1855  \n",
       "\n",
       "[3637 rows x 5 columns]"
      ]
     },
     "execution_count": 8,
     "metadata": {},
     "output_type": "execute_result"
    }
   ],
   "source": [
    "# Import sqlite3 library to being able to transform the queries to dataframes using pandas\n",
    "import sqlite3\n",
    "\n",
    "# Create connection.\n",
    "cnx = sqlite3.connect('case_study.db')\n",
    "\n",
    "df_balance = pd.read_sql_query(\"SELECT * FROM balance\", cnx)\n",
    "df_balance"
   ]
  },
  {
   "cell_type": "code",
   "execution_count": 9,
   "id": "b878b4b1",
   "metadata": {
    "scrolled": false
   },
   "outputs": [
    {
     "name": "stderr",
     "output_type": "stream",
     "text": [
      "C:\\Users\\jfalb\\AppData\\Local\\Temp\\ipykernel_9992\\2973424585.py:2: FutureWarning: The default value of numeric_only in DataFrameGroupBy.sum is deprecated. In a future version, numeric_only will default to False. Either specify numeric_only or select only columns which should be valid for the function.\n",
      "  df_balance_no_duplicates = df_balance.groupby('cust_id', as_index=False).sum()\n"
     ]
    },
    {
     "data": {
      "text/html": [
       "<div>\n",
       "<style scoped>\n",
       "    .dataframe tbody tr th:only-of-type {\n",
       "        vertical-align: middle;\n",
       "    }\n",
       "\n",
       "    .dataframe tbody tr th {\n",
       "        vertical-align: top;\n",
       "    }\n",
       "\n",
       "    .dataframe thead th {\n",
       "        text-align: right;\n",
       "    }\n",
       "</style>\n",
       "<table border=\"1\" class=\"dataframe\">\n",
       "  <thead>\n",
       "    <tr style=\"text-align: right;\">\n",
       "      <th></th>\n",
       "      <th>cust_id</th>\n",
       "      <th>balance_issued</th>\n",
       "    </tr>\n",
       "  </thead>\n",
       "  <tbody>\n",
       "    <tr>\n",
       "      <th>0</th>\n",
       "      <td>1</td>\n",
       "      <td>517.93</td>\n",
       "    </tr>\n",
       "    <tr>\n",
       "      <th>1</th>\n",
       "      <td>2</td>\n",
       "      <td>-21.31</td>\n",
       "    </tr>\n",
       "    <tr>\n",
       "      <th>2</th>\n",
       "      <td>7</td>\n",
       "      <td>192.89</td>\n",
       "    </tr>\n",
       "    <tr>\n",
       "      <th>3</th>\n",
       "      <td>14</td>\n",
       "      <td>336.32</td>\n",
       "    </tr>\n",
       "    <tr>\n",
       "      <th>4</th>\n",
       "      <td>17</td>\n",
       "      <td>-139.56</td>\n",
       "    </tr>\n",
       "    <tr>\n",
       "      <th>...</th>\n",
       "      <td>...</td>\n",
       "      <td>...</td>\n",
       "    </tr>\n",
       "    <tr>\n",
       "      <th>3084</th>\n",
       "      <td>7487</td>\n",
       "      <td>-295.83</td>\n",
       "    </tr>\n",
       "    <tr>\n",
       "      <th>3085</th>\n",
       "      <td>7489</td>\n",
       "      <td>-31.73</td>\n",
       "    </tr>\n",
       "    <tr>\n",
       "      <th>3086</th>\n",
       "      <td>7491</td>\n",
       "      <td>92.79</td>\n",
       "    </tr>\n",
       "    <tr>\n",
       "      <th>3087</th>\n",
       "      <td>7492</td>\n",
       "      <td>116.79</td>\n",
       "    </tr>\n",
       "    <tr>\n",
       "      <th>3088</th>\n",
       "      <td>7493</td>\n",
       "      <td>-12.70</td>\n",
       "    </tr>\n",
       "  </tbody>\n",
       "</table>\n",
       "<p>3089 rows × 2 columns</p>\n",
       "</div>"
      ],
      "text/plain": [
       "      cust_id  balance_issued\n",
       "0           1          517.93\n",
       "1           2          -21.31\n",
       "2           7          192.89\n",
       "3          14          336.32\n",
       "4          17         -139.56\n",
       "...       ...             ...\n",
       "3084     7487         -295.83\n",
       "3085     7489          -31.73\n",
       "3086     7491           92.79\n",
       "3087     7492          116.79\n",
       "3088     7493          -12.70\n",
       "\n",
       "[3089 rows x 2 columns]"
      ]
     },
     "execution_count": 9,
     "metadata": {},
     "output_type": "execute_result"
    }
   ],
   "source": [
    "# Some customers appear twice in the data set because they have contracted more than one service, to avoid repetitions these are added together.\n",
    "df_balance_no_duplicates = df_balance.groupby('cust_id', as_index=False).sum()\n",
    "\n",
    "df_balance_no_duplicates"
   ]
  },
  {
   "cell_type": "code",
   "execution_count": 10,
   "id": "547c82b5",
   "metadata": {},
   "outputs": [
    {
     "name": "stderr",
     "output_type": "stream",
     "text": [
      "C:\\Users\\jfalb\\AppData\\Local\\Temp\\ipykernel_9992\\2352405180.py:2: MatplotlibDeprecationWarning: The seaborn styles shipped by Matplotlib are deprecated since 3.6, as they no longer correspond to the styles shipped by seaborn. However, they will remain available as 'seaborn-v0_8-<style>'. Alternatively, directly use the seaborn API instead.\n",
      "  plt.style.use('seaborn-whitegrid')\n"
     ]
    }
   ],
   "source": [
    "# Change the plot style\n",
    "plt.style.use('seaborn-whitegrid')"
   ]
  },
  {
   "cell_type": "code",
   "execution_count": 11,
   "id": "ab163c54",
   "metadata": {
    "scrolled": false
   },
   "outputs": [
    {
     "data": {
      "image/png": "[encoded data removed]",
      "text/plain": [
       "<Figure size 2000x1000 with 1 Axes>"
      ]
     },
     "metadata": {},
     "output_type": "display_data"
    }
   ],
   "source": [
    "# Histogram plot of opening balances to show their distribution and their differences \n",
    "plt.figure(figsize=(20,10))\n",
    "ax = sns.histplot((df_balance_no_duplicates.balance_issued))\n",
    "\n",
    "# Data for the plot\n",
    "ax.set_title('Differences in opening balance across all of the customers', fontweight='bold', fontsize=11)\n",
    "ax.set_ylabel('Amount of customers')\n",
    "ax.set_xlabel('Debt/Credit by customers')\n",
    "ax.set_xticks(range(-1000, 1050, 50))\n",
    "ax.set_yticks(range(0, 265, 20));"
   ]
  },
  {
   "cell_type": "code",
   "execution_count": 12,
   "id": "30d2f2b6",
   "metadata": {},
   "outputs": [],
   "source": [
    "# Calculate the amount of money that Octopus owes to its customers and the amount that customers owe Octopus\n",
    "money_company_owes_to_customers = round(df_balance_no_duplicates[df_balance_no_duplicates['balance_issued']>0]['balance_issued'].sum(), 2)\n",
    "money_customers_owes_to_company = round(df_balance_no_duplicates[df_balance_no_duplicates['balance_issued']<0]['balance_issued'].sum(), 2)"
   ]
  },
  {
   "cell_type": "code",
   "execution_count": 13,
   "id": "ade18033",
   "metadata": {},
   "outputs": [
    {
     "data": {
      "text/plain": [
       "386559.69"
      ]
     },
     "execution_count": 13,
     "metadata": {},
     "output_type": "execute_result"
    }
   ],
   "source": [
    "money_company_owes_to_customers"
   ]
  },
  {
   "cell_type": "code",
   "execution_count": 14,
   "id": "9cee1892",
   "metadata": {},
   "outputs": [
    {
     "data": {
      "text/plain": [
       "-172484.02"
      ]
     },
     "execution_count": 14,
     "metadata": {},
     "output_type": "execute_result"
    }
   ],
   "source": [
    "money_customers_owes_to_company"
   ]
  },
  {
   "cell_type": "code",
   "execution_count": 15,
   "id": "c232e532",
   "metadata": {},
   "outputs": [],
   "source": [
    "# Creation of a new column to categorize the amount of the opening balance as either customer credit or customer debt\n",
    "balance = []\n",
    "for index, row in df_balance_no_duplicates.iterrows():\n",
    "    if row['balance_issued'] > 0:\n",
    "        balance.append(\"customer credit\")\n",
    "    else:\n",
    "        balance.append(\"customer debt\")\n",
    "        \n",
    "df_balance_no_duplicates[\"balance_type\"] = balance"
   ]
  },
  {
   "cell_type": "code",
   "execution_count": 16,
   "id": "8418a61e",
   "metadata": {
    "scrolled": false
   },
   "outputs": [
    {
     "data": {
      "text/html": [
       "<div>\n",
       "<style scoped>\n",
       "    .dataframe tbody tr th:only-of-type {\n",
       "        vertical-align: middle;\n",
       "    }\n",
       "\n",
       "    .dataframe tbody tr th {\n",
       "        vertical-align: top;\n",
       "    }\n",
       "\n",
       "    .dataframe thead th {\n",
       "        text-align: right;\n",
       "    }\n",
       "</style>\n",
       "<table border=\"1\" class=\"dataframe\">\n",
       "  <thead>\n",
       "    <tr style=\"text-align: right;\">\n",
       "      <th></th>\n",
       "      <th>cust_id</th>\n",
       "      <th>balance_issued</th>\n",
       "      <th>balance_type</th>\n",
       "      <th>credit-debt</th>\n",
       "    </tr>\n",
       "  </thead>\n",
       "  <tbody>\n",
       "    <tr>\n",
       "      <th>0</th>\n",
       "      <td>1</td>\n",
       "      <td>517.93</td>\n",
       "      <td>customer credit</td>\n",
       "      <td>1</td>\n",
       "    </tr>\n",
       "    <tr>\n",
       "      <th>1</th>\n",
       "      <td>2</td>\n",
       "      <td>-21.31</td>\n",
       "      <td>customer debt</td>\n",
       "      <td>2</td>\n",
       "    </tr>\n",
       "    <tr>\n",
       "      <th>2</th>\n",
       "      <td>7</td>\n",
       "      <td>192.89</td>\n",
       "      <td>customer credit</td>\n",
       "      <td>1</td>\n",
       "    </tr>\n",
       "    <tr>\n",
       "      <th>3</th>\n",
       "      <td>14</td>\n",
       "      <td>336.32</td>\n",
       "      <td>customer credit</td>\n",
       "      <td>1</td>\n",
       "    </tr>\n",
       "    <tr>\n",
       "      <th>4</th>\n",
       "      <td>17</td>\n",
       "      <td>-139.56</td>\n",
       "      <td>customer debt</td>\n",
       "      <td>2</td>\n",
       "    </tr>\n",
       "    <tr>\n",
       "      <th>...</th>\n",
       "      <td>...</td>\n",
       "      <td>...</td>\n",
       "      <td>...</td>\n",
       "      <td>...</td>\n",
       "    </tr>\n",
       "    <tr>\n",
       "      <th>3084</th>\n",
       "      <td>7487</td>\n",
       "      <td>-295.83</td>\n",
       "      <td>customer debt</td>\n",
       "      <td>2</td>\n",
       "    </tr>\n",
       "    <tr>\n",
       "      <th>3085</th>\n",
       "      <td>7489</td>\n",
       "      <td>-31.73</td>\n",
       "      <td>customer debt</td>\n",
       "      <td>2</td>\n",
       "    </tr>\n",
       "    <tr>\n",
       "      <th>3086</th>\n",
       "      <td>7491</td>\n",
       "      <td>92.79</td>\n",
       "      <td>customer credit</td>\n",
       "      <td>1</td>\n",
       "    </tr>\n",
       "    <tr>\n",
       "      <th>3087</th>\n",
       "      <td>7492</td>\n",
       "      <td>116.79</td>\n",
       "      <td>customer credit</td>\n",
       "      <td>1</td>\n",
       "    </tr>\n",
       "    <tr>\n",
       "      <th>3088</th>\n",
       "      <td>7493</td>\n",
       "      <td>-12.70</td>\n",
       "      <td>customer debt</td>\n",
       "      <td>2</td>\n",
       "    </tr>\n",
       "  </tbody>\n",
       "</table>\n",
       "<p>3089 rows × 4 columns</p>\n",
       "</div>"
      ],
      "text/plain": [
       "      cust_id  balance_issued     balance_type  credit-debt\n",
       "0           1          517.93  customer credit            1\n",
       "1           2          -21.31    customer debt            2\n",
       "2           7          192.89  customer credit            1\n",
       "3          14          336.32  customer credit            1\n",
       "4          17         -139.56    customer debt            2\n",
       "...       ...             ...              ...          ...\n",
       "3084     7487         -295.83    customer debt            2\n",
       "3085     7489          -31.73    customer debt            2\n",
       "3086     7491           92.79  customer credit            1\n",
       "3087     7492          116.79  customer credit            1\n",
       "3088     7493          -12.70    customer debt            2\n",
       "\n",
       "[3089 rows x 4 columns]"
      ]
     },
     "execution_count": 16,
     "metadata": {},
     "output_type": "execute_result"
    }
   ],
   "source": [
    "# Add another column with numbers, 1 when the balance_type = customer credit and 2 when balance_type = customer debt\n",
    "df_balance_no_duplicates['credit-debt'] = np.where(df_balance_no_duplicates['balance_issued']>0,1,2)\n",
    "\n",
    "df_balance_no_duplicates"
   ]
  },
  {
   "cell_type": "code",
   "execution_count": 17,
   "id": "dfa35c0e",
   "metadata": {
    "scrolled": false
   },
   "outputs": [
    {
     "data": {
      "image/png": "[encoded data removed]",
      "text/plain": [
       "<Figure size 640x480 with 1 Axes>"
      ]
     },
     "metadata": {},
     "output_type": "display_data"
    }
   ],
   "source": [
    "# Pie plot to show the percentage of customers with credit and customers with debt\n",
    "df_balance_no_duplicates.groupby(['balance_type']).sum().plot(kind='pie', y = 'credit-debt', autopct='%1.1f%%')\n",
    "\n",
    "# Data for the plot\n",
    "plt.legend(\"\", frameon=False)\n",
    "plt.title(\"Percentage of customers with credit and customers with debt\", fontweight='bold', fontsize=11)\n",
    "plt.ylabel(\"\");"
   ]
  },
  {
   "cell_type": "markdown",
   "id": "5450f889",
   "metadata": {},
   "source": [
    "### Conclusions of the analysis with respect to question 2\n",
    "\n",
    "A histogram can be used to explain the differences in the opening balance across all of the customers, since the number of customers is large.\n",
    "\n",
    "From the graph we can see that the distribution of customer debt/credit data is normal with a tendency to the right indicating that the money owed to customers at the end of July 2020 is greater than the money owed to Octopus by customers.\n",
    "\n",
    "This conclusion is reinforced by the total customer credit/debt calculation, with the money owed by customers to Octopus being only 44.62% of the money owed by the company to its customers.\n",
    "\n",
    "Other important aspects that can be extracted from the hisogram are:\n",
    "* Most customers owe the company between 0 and 200 pounds.\n",
    "* On the other hand, the company owes most of its customers between 0 and 400 pounds.\n",
    "\n",
    "The pie chart shows that in July 2020 there were almost as many customers owing money to the company as there were customers to whom the company owed money. "
   ]
  },
  {
   "cell_type": "markdown",
   "id": "1c001c33",
   "metadata": {},
   "source": [
    "### 3-a.  A customer’s closing balance is determined by adding payments and subtracting charges to their opening balance. Using the balances table to determine a customer’s opening balance, and the transactions table to determine their payments and charges, illustrate a plot of a single customer’s (cust_id: 951) balance for each month"
   ]
  },
  {
   "cell_type": "code",
   "execution_count": 18,
   "id": "622c5d48",
   "metadata": {},
   "outputs": [],
   "source": [
    "# SQL query to display the opening balance of the customer with cuts_id = 951"
   ]
  },
  {
   "cell_type": "code",
   "execution_count": 19,
   "id": "9b1d22b6",
   "metadata": {},
   "outputs": [
    {
     "name": "stdout",
     "output_type": "stream",
     "text": [
      " * sqlite:///case_study.db\n",
      "Done.\n"
     ]
    },
    {
     "data": {
      "text/html": [
       "<table>\n",
       "    <thead>\n",
       "        <tr>\n",
       "            <th>month</th>\n",
       "            <th>opening_balance</th>\n",
       "        </tr>\n",
       "    </thead>\n",
       "    <tbody>\n",
       "        <tr>\n",
       "            <td>2020-07</td>\n",
       "            <td>-66.85</td>\n",
       "        </tr>\n",
       "    </tbody>\n",
       "</table>"
      ],
      "text/plain": [
       "[('2020-07', -66.85)]"
      ]
     },
     "execution_count": 19,
     "metadata": {},
     "output_type": "execute_result"
    }
   ],
   "source": [
    "%%sql\n",
    "SELECT strftime('%Y-%m', report_date) AS month, \n",
    "       SUM(balance_issued) AS opening_balance \n",
    "FROM balance\n",
    "WHERE cust_id = 951;"
   ]
  },
  {
   "cell_type": "code",
   "execution_count": 20,
   "id": "f91769bd",
   "metadata": {},
   "outputs": [
    {
     "data": {
      "text/html": [
       "<div>\n",
       "<style scoped>\n",
       "    .dataframe tbody tr th:only-of-type {\n",
       "        vertical-align: middle;\n",
       "    }\n",
       "\n",
       "    .dataframe tbody tr th {\n",
       "        vertical-align: top;\n",
       "    }\n",
       "\n",
       "    .dataframe thead th {\n",
       "        text-align: right;\n",
       "    }\n",
       "</style>\n",
       "<table border=\"1\" class=\"dataframe\">\n",
       "  <thead>\n",
       "    <tr style=\"text-align: right;\">\n",
       "      <th></th>\n",
       "      <th>month</th>\n",
       "      <th>final_balances</th>\n",
       "    </tr>\n",
       "  </thead>\n",
       "  <tbody>\n",
       "    <tr>\n",
       "      <th>0</th>\n",
       "      <td>2020-08</td>\n",
       "      <td>71.97</td>\n",
       "    </tr>\n",
       "    <tr>\n",
       "      <th>1</th>\n",
       "      <td>2020-09</td>\n",
       "      <td>78.01</td>\n",
       "    </tr>\n",
       "    <tr>\n",
       "      <th>2</th>\n",
       "      <td>2020-10</td>\n",
       "      <td>14.70</td>\n",
       "    </tr>\n",
       "    <tr>\n",
       "      <th>3</th>\n",
       "      <td>2020-11</td>\n",
       "      <td>153.52</td>\n",
       "    </tr>\n",
       "    <tr>\n",
       "      <th>4</th>\n",
       "      <td>2020-12</td>\n",
       "      <td>73.43</td>\n",
       "    </tr>\n",
       "    <tr>\n",
       "      <th>5</th>\n",
       "      <td>2021-01</td>\n",
       "      <td>212.25</td>\n",
       "    </tr>\n",
       "    <tr>\n",
       "      <th>6</th>\n",
       "      <td>2021-02</td>\n",
       "      <td>351.07</td>\n",
       "    </tr>\n",
       "    <tr>\n",
       "      <th>7</th>\n",
       "      <td>2021-03</td>\n",
       "      <td>-153.45</td>\n",
       "    </tr>\n",
       "    <tr>\n",
       "      <th>8</th>\n",
       "      <td>2021-04</td>\n",
       "      <td>-14.63</td>\n",
       "    </tr>\n",
       "    <tr>\n",
       "      <th>9</th>\n",
       "      <td>2021-05</td>\n",
       "      <td>-435.81</td>\n",
       "    </tr>\n",
       "    <tr>\n",
       "      <th>10</th>\n",
       "      <td>2021-06</td>\n",
       "      <td>-443.82</td>\n",
       "    </tr>\n",
       "    <tr>\n",
       "      <th>11</th>\n",
       "      <td>2021-07</td>\n",
       "      <td>-305.00</td>\n",
       "    </tr>\n",
       "  </tbody>\n",
       "</table>\n",
       "</div>"
      ],
      "text/plain": [
       "      month  final_balances\n",
       "0   2020-08           71.97\n",
       "1   2020-09           78.01\n",
       "2   2020-10           14.70\n",
       "3   2020-11          153.52\n",
       "4   2020-12           73.43\n",
       "5   2021-01          212.25\n",
       "6   2021-02          351.07\n",
       "7   2021-03         -153.45\n",
       "8   2021-04          -14.63\n",
       "9   2021-05         -435.81\n",
       "10  2021-06         -443.82\n",
       "11  2021-07         -305.00"
      ]
     },
     "execution_count": 20,
     "metadata": {},
     "output_type": "execute_result"
    }
   ],
   "source": [
    "# SQL query to calculate the customer monthly balance and transform it into a dataframe\n",
    "balances_one_customer = pd.read_sql_query('''WITH first_balance AS (\n",
    "  SELECT strftime('%Y-%m', report_date) AS month, SUM(balance_issued) AS opening_balance,\n",
    "         cust_id\n",
    "  FROM balance\n",
    "  WHERE cust_id = 951\n",
    "),\n",
    "monthly_balances AS (\n",
    "  SELECT strftime('%Y-%m', transaction_date) AS month,\n",
    "         cust_id,\n",
    "         SUM(CASE WHEN transaction_type = 'accountpayment' THEN amount_in_pounds ELSE -amount_in_pounds END) AS transaction_sum\n",
    "  FROM transactions \n",
    "  WHERE cust_id = 951\n",
    "  GROUP BY month, cust_id\n",
    "),\n",
    "calculated_balances AS (\n",
    "  SELECT mb.month,\n",
    "         mb.cust_id,\n",
    "         COALESCE(SUM(mb.transaction_sum) OVER (PARTITION BY mb.cust_id ORDER BY mb.month), 0) AS closing_balance\n",
    "  FROM monthly_balances AS mb\n",
    "),\n",
    "definitive_closing_balance AS (\n",
    "  SELECT cb1.month, \n",
    "         (fb1.opening_balance + cb1.closing_balance) AS final_balances\n",
    "  FROM first_balance AS fb1\n",
    "  join calculated_balances AS cb1\n",
    "  ON fb1.cust_id = cb1.cust_id\n",
    ")\n",
    "SELECT dcb.month, dcb.final_balances\n",
    "FROM definitive_closing_balance AS dcb\n",
    "ORDER BY dcb.month;''', cnx)\n",
    "\n",
    "balances_one_customer"
   ]
  },
  {
   "cell_type": "code",
   "execution_count": 21,
   "id": "6e94ec1f",
   "metadata": {},
   "outputs": [
    {
     "data": {
      "image/png": "[encoded data removed]",
      "text/plain": [
       "<Figure size 1200x600 with 1 Axes>"
      ]
     },
     "metadata": {},
     "output_type": "display_data"
    }
   ],
   "source": [
    "# Line plot to illustrate the monthly balance\n",
    "plt.figure(figsize=(12,6))\n",
    "ax = sns.lineplot(data=balances_one_customer,\n",
    "                  x=\"month\", \n",
    "                  y=\"final_balances\",\n",
    "                  markers=True, \n",
    "                  dashes=False,\n",
    "                  marker=\"o\")\n",
    "\n",
    "# Data for the plot\n",
    "ax.set_title('Balance for each month', fontweight='bold', fontsize=11)\n",
    "ax.set_ylabel('Balnce in pounds')\n",
    "ax.set_xlabel('Months');\n"
   ]
  },
  {
   "cell_type": "markdown",
   "id": "606c1819",
   "metadata": {},
   "source": [
    "### Conclusions of the analysis with respect to question 3-a\n",
    "\n",
    "The client with cust_id = 951 had an opening balance of -66.85 (he opened his balance owing money to Octopus), then from August 2020 he paid off the debts and his monthly balance went above zero and remained in this situation until January 2021 as in March and up to the closing balance he remained below zero closing with a debt of -305 pounds."
   ]
  },
  {
   "cell_type": "markdown",
   "id": "9bb81a01",
   "metadata": {},
   "source": [
    "### 3-b.  determine whether the following customers (927, 1337, 3217, 4718) are paying sufficient amounts to ensure their closing balance in July 2021 is not lower than their opening balance in July 2020"
   ]
  },
  {
   "cell_type": "code",
   "execution_count": 22,
   "id": "8d9a3f96",
   "metadata": {},
   "outputs": [
    {
     "data": {
      "text/html": [
       "<div>\n",
       "<style scoped>\n",
       "    .dataframe tbody tr th:only-of-type {\n",
       "        vertical-align: middle;\n",
       "    }\n",
       "\n",
       "    .dataframe tbody tr th {\n",
       "        vertical-align: top;\n",
       "    }\n",
       "\n",
       "    .dataframe thead th {\n",
       "        text-align: right;\n",
       "    }\n",
       "</style>\n",
       "<table border=\"1\" class=\"dataframe\">\n",
       "  <thead>\n",
       "    <tr style=\"text-align: right;\">\n",
       "      <th></th>\n",
       "      <th>cust_id</th>\n",
       "      <th>month</th>\n",
       "      <th>opening_balance</th>\n",
       "    </tr>\n",
       "  </thead>\n",
       "  <tbody>\n",
       "    <tr>\n",
       "      <th>0</th>\n",
       "      <td>927</td>\n",
       "      <td>2020-07</td>\n",
       "      <td>148.58</td>\n",
       "    </tr>\n",
       "    <tr>\n",
       "      <th>1</th>\n",
       "      <td>1337</td>\n",
       "      <td>2020-07</td>\n",
       "      <td>-223.24</td>\n",
       "    </tr>\n",
       "    <tr>\n",
       "      <th>2</th>\n",
       "      <td>3217</td>\n",
       "      <td>2020-07</td>\n",
       "      <td>311.73</td>\n",
       "    </tr>\n",
       "    <tr>\n",
       "      <th>3</th>\n",
       "      <td>4718</td>\n",
       "      <td>2020-07</td>\n",
       "      <td>317.04</td>\n",
       "    </tr>\n",
       "  </tbody>\n",
       "</table>\n",
       "</div>"
      ],
      "text/plain": [
       "   cust_id    month  opening_balance\n",
       "0      927  2020-07           148.58\n",
       "1     1337  2020-07          -223.24\n",
       "2     3217  2020-07           311.73\n",
       "3     4718  2020-07           317.04"
      ]
     },
     "execution_count": 22,
     "metadata": {},
     "output_type": "execute_result"
    }
   ],
   "source": [
    "# SQL query to display the opening balance of the customers with cuts_id = (927, 1337, 3217, 4718) and transform it into a dataframe\n",
    "opening_balances_four_cust = pd.read_sql_query('''SELECT \n",
    "  cust_id, \n",
    "  strftime('%Y-%m', report_date) as month, \n",
    "  SUM(balance_issued) AS opening_balance \n",
    "FROM balance\n",
    "WHERE cust_id = 927 OR cust_id = 1337 or cust_id = 3217 OR cust_id = 4718\n",
    "GROUP BY cust_id;''', cnx)\n",
    "\n",
    "opening_balances_four_cust"
   ]
  },
  {
   "cell_type": "code",
   "execution_count": 23,
   "id": "e737030c",
   "metadata": {},
   "outputs": [
    {
     "data": {
      "text/html": [
       "<div>\n",
       "<style scoped>\n",
       "    .dataframe tbody tr th:only-of-type {\n",
       "        vertical-align: middle;\n",
       "    }\n",
       "\n",
       "    .dataframe tbody tr th {\n",
       "        vertical-align: top;\n",
       "    }\n",
       "\n",
       "    .dataframe thead th {\n",
       "        text-align: right;\n",
       "    }\n",
       "</style>\n",
       "<table border=\"1\" class=\"dataframe\">\n",
       "  <thead>\n",
       "    <tr style=\"text-align: right;\">\n",
       "      <th></th>\n",
       "      <th>cust_id</th>\n",
       "      <th>month</th>\n",
       "      <th>closing_balances</th>\n",
       "    </tr>\n",
       "  </thead>\n",
       "  <tbody>\n",
       "    <tr>\n",
       "      <th>0</th>\n",
       "      <td>927</td>\n",
       "      <td>2021-07</td>\n",
       "      <td>-117.31</td>\n",
       "    </tr>\n",
       "    <tr>\n",
       "      <th>1</th>\n",
       "      <td>1337</td>\n",
       "      <td>2021-07</td>\n",
       "      <td>-239.63</td>\n",
       "    </tr>\n",
       "    <tr>\n",
       "      <th>2</th>\n",
       "      <td>3217</td>\n",
       "      <td>2021-07</td>\n",
       "      <td>292.15</td>\n",
       "    </tr>\n",
       "    <tr>\n",
       "      <th>3</th>\n",
       "      <td>4718</td>\n",
       "      <td>2021-07</td>\n",
       "      <td>-8.37</td>\n",
       "    </tr>\n",
       "  </tbody>\n",
       "</table>\n",
       "</div>"
      ],
      "text/plain": [
       "   cust_id    month  closing_balances\n",
       "0      927  2021-07           -117.31\n",
       "1     1337  2021-07           -239.63\n",
       "2     3217  2021-07            292.15\n",
       "3     4718  2021-07             -8.37"
      ]
     },
     "execution_count": 23,
     "metadata": {},
     "output_type": "execute_result"
    }
   ],
   "source": [
    "# SQL query to calculate the 4 customers closing balance and transform it into a dataframe\n",
    "closing_balances_four_cust = pd.read_sql_query('''WITH first_balance AS (\n",
    "  SELECT strftime('%Y-%m', report_date) AS month, SUM(balance_issued) AS opening_balance,\n",
    "         cust_id\n",
    "  FROM balance\n",
    "  WHERE cust_id = 927 OR cust_id = 1337 OR cust_id = 3217 OR cust_id = 4718\n",
    "  GROUP by cust_id\n",
    "),\n",
    "monthly_balances AS (\n",
    "  SELECT strftime('%Y-%m', transaction_date) AS month,\n",
    "         cust_id,\n",
    "         SUM(CASE WHEN transaction_type = 'accountpayment' THEN amount_in_pounds ELSE -amount_in_pounds END) AS transaction_sum\n",
    "  FROM transactions \n",
    "  WHERE cust_id = 927 OR cust_id = 1337 OR cust_id = 3217 OR cust_id = 4718\n",
    "  GROUP BY month, cust_id\n",
    "),\n",
    "calculated_balances AS (\n",
    "  SELECT mb.month,\n",
    "         mb.cust_id,\n",
    "         COALESCE(SUM(mb.transaction_sum) OVER (PARTITION BY mb.cust_id ORDER BY mb.month), 0) AS closing_balance\n",
    "  FROM monthly_balances as mb\n",
    "),\n",
    "definitive_closing_balance as (\n",
    "  SELECT cb1.month,\n",
    "         cb1.cust_id,\n",
    "         (fb1.opening_balance + cb1.closing_balance) AS closing_balances\n",
    "  FROM first_balance AS fb1\n",
    "  join calculated_balances AS cb1\n",
    "  ON fb1.cust_id = cb1.cust_id\n",
    ")\n",
    "SELECT dcb.cust_id, dcb.month, dcb.closing_balances\n",
    "FROM definitive_closing_balance AS dcb\n",
    "WHERE dcb.month = '2021-07'\n",
    "ORDER BY dcb.cust_id ASC, dcb.month;''', cnx)\n",
    "\n",
    "closing_balances_four_cust"
   ]
  },
  {
   "cell_type": "code",
   "execution_count": 24,
   "id": "4eb57cb7",
   "metadata": {},
   "outputs": [
    {
     "data": {
      "text/html": [
       "<div>\n",
       "<style scoped>\n",
       "    .dataframe tbody tr th:only-of-type {\n",
       "        vertical-align: middle;\n",
       "    }\n",
       "\n",
       "    .dataframe tbody tr th {\n",
       "        vertical-align: top;\n",
       "    }\n",
       "\n",
       "    .dataframe thead th {\n",
       "        text-align: right;\n",
       "    }\n",
       "</style>\n",
       "<table border=\"1\" class=\"dataframe\">\n",
       "  <thead>\n",
       "    <tr style=\"text-align: right;\">\n",
       "      <th></th>\n",
       "      <th>cust_id</th>\n",
       "      <th>month_opening</th>\n",
       "      <th>opening_balance</th>\n",
       "      <th>month_closing</th>\n",
       "      <th>closing_balance</th>\n",
       "    </tr>\n",
       "  </thead>\n",
       "  <tbody>\n",
       "    <tr>\n",
       "      <th>0</th>\n",
       "      <td>927</td>\n",
       "      <td>2020-07</td>\n",
       "      <td>148.58</td>\n",
       "      <td>2021-07</td>\n",
       "      <td>-117.31</td>\n",
       "    </tr>\n",
       "    <tr>\n",
       "      <th>1</th>\n",
       "      <td>1337</td>\n",
       "      <td>2020-07</td>\n",
       "      <td>-223.24</td>\n",
       "      <td>2021-07</td>\n",
       "      <td>-239.63</td>\n",
       "    </tr>\n",
       "    <tr>\n",
       "      <th>2</th>\n",
       "      <td>3217</td>\n",
       "      <td>2020-07</td>\n",
       "      <td>311.73</td>\n",
       "      <td>2021-07</td>\n",
       "      <td>292.15</td>\n",
       "    </tr>\n",
       "    <tr>\n",
       "      <th>3</th>\n",
       "      <td>4718</td>\n",
       "      <td>2020-07</td>\n",
       "      <td>317.04</td>\n",
       "      <td>2021-07</td>\n",
       "      <td>-8.37</td>\n",
       "    </tr>\n",
       "  </tbody>\n",
       "</table>\n",
       "</div>"
      ],
      "text/plain": [
       "   cust_id month_opening  opening_balance month_closing  closing_balance\n",
       "0      927       2020-07           148.58       2021-07          -117.31\n",
       "1     1337       2020-07          -223.24       2021-07          -239.63\n",
       "2     3217       2020-07           311.73       2021-07           292.15\n",
       "3     4718       2020-07           317.04       2021-07            -8.37"
      ]
     },
     "execution_count": 24,
     "metadata": {},
     "output_type": "execute_result"
    }
   ],
   "source": [
    "# Combine the opening and closing balance in a single data frame\n",
    "df_opening_closing_balances = pd.DataFrame().assign(cust_id = opening_balances_four_cust['cust_id'], \n",
    "                                                    month_opening = opening_balances_four_cust['month'],\n",
    "                                                    opening_balance = opening_balances_four_cust['opening_balance'],\n",
    "                                                    month_closing = closing_balances_four_cust['month'],\n",
    "                                                    closing_balance = closing_balances_four_cust['closing_balances'])\n",
    "\n",
    "df_opening_closing_balances "
   ]
  },
  {
   "cell_type": "code",
   "execution_count": 25,
   "id": "3128ea0f",
   "metadata": {},
   "outputs": [
    {
     "data": {
      "image/png": "[encoded data removed]",
      "text/plain": [
       "<Figure size 640x480 with 1 Axes>"
      ]
     },
     "metadata": {},
     "output_type": "display_data"
    }
   ],
   "source": [
    "# Bar plot to show the differences between customer opening and closing balance\n",
    "ax = df_opening_closing_balances.plot(x='cust_id', y=['opening_balance', 'closing_balance'], kind='bar')\n",
    "\n",
    "# Data for the plot\n",
    "ax.set_title('Differences between opening balance July 2020 and closing balance July 2021', fontweight='bold', fontsize=11)\n",
    "ax.set_xlabel('Customer Id') \n",
    "ax.set_ylabel('Amount in pounds')\n",
    "ax.legend().set_visible(True)"
   ]
  },
  {
   "cell_type": "markdown",
   "id": "03066d50",
   "metadata": {},
   "source": [
    "### Conclusions of the analysis with respect to question 3-b\n",
    "\n",
    "As can be seen in the bar plot, in all cases, none of the customers are paying enough as all their closing balances in July 2021 are lower than their opening balances in July 2020. \n",
    "\n",
    "* Customers 927, 1337 and 4718 ended up owing money to the company at the closing balance in July 2021\n",
    "* Only customer 3217 ended with a credit on the closing balance, but was still below its opening balance."
   ]
  },
  {
   "cell_type": "markdown",
   "id": "53d41617",
   "metadata": {},
   "source": [
    "### 4. Given a price increase of 10% at the end of July 2020, calculate an estimate for what each customer’s closing balance will be in July 2021, assuming payment amounts stay the same. What proportion will have become debtors (having a positive opening balance in July 2020 and then having a closing negative balance in July 2021)?"
   ]
  },
  {
   "cell_type": "code",
   "execution_count": 26,
   "id": "b1387b4b",
   "metadata": {
    "scrolled": false
   },
   "outputs": [
    {
     "data": {
      "text/html": [
       "<div>\n",
       "<style scoped>\n",
       "    .dataframe tbody tr th:only-of-type {\n",
       "        vertical-align: middle;\n",
       "    }\n",
       "\n",
       "    .dataframe tbody tr th {\n",
       "        vertical-align: top;\n",
       "    }\n",
       "\n",
       "    .dataframe thead th {\n",
       "        text-align: right;\n",
       "    }\n",
       "</style>\n",
       "<table border=\"1\" class=\"dataframe\">\n",
       "  <thead>\n",
       "    <tr style=\"text-align: right;\">\n",
       "      <th></th>\n",
       "      <th>cust_id</th>\n",
       "      <th>month</th>\n",
       "      <th>closing_balances</th>\n",
       "    </tr>\n",
       "  </thead>\n",
       "  <tbody>\n",
       "    <tr>\n",
       "      <th>0</th>\n",
       "      <td>1</td>\n",
       "      <td>2021-07</td>\n",
       "      <td>1069.14</td>\n",
       "    </tr>\n",
       "    <tr>\n",
       "      <th>1</th>\n",
       "      <td>2</td>\n",
       "      <td>2021-07</td>\n",
       "      <td>-195.43</td>\n",
       "    </tr>\n",
       "    <tr>\n",
       "      <th>2</th>\n",
       "      <td>7</td>\n",
       "      <td>2021-07</td>\n",
       "      <td>-289.10</td>\n",
       "    </tr>\n",
       "    <tr>\n",
       "      <th>3</th>\n",
       "      <td>14</td>\n",
       "      <td>2021-07</td>\n",
       "      <td>383.91</td>\n",
       "    </tr>\n",
       "    <tr>\n",
       "      <th>4</th>\n",
       "      <td>17</td>\n",
       "      <td>2021-07</td>\n",
       "      <td>-251.36</td>\n",
       "    </tr>\n",
       "    <tr>\n",
       "      <th>...</th>\n",
       "      <td>...</td>\n",
       "      <td>...</td>\n",
       "      <td>...</td>\n",
       "    </tr>\n",
       "    <tr>\n",
       "      <th>2716</th>\n",
       "      <td>7487</td>\n",
       "      <td>2021-07</td>\n",
       "      <td>-186.17</td>\n",
       "    </tr>\n",
       "    <tr>\n",
       "      <th>2717</th>\n",
       "      <td>7489</td>\n",
       "      <td>2021-07</td>\n",
       "      <td>656.03</td>\n",
       "    </tr>\n",
       "    <tr>\n",
       "      <th>2718</th>\n",
       "      <td>7491</td>\n",
       "      <td>2021-07</td>\n",
       "      <td>-56.89</td>\n",
       "    </tr>\n",
       "    <tr>\n",
       "      <th>2719</th>\n",
       "      <td>7492</td>\n",
       "      <td>2021-07</td>\n",
       "      <td>-164.94</td>\n",
       "    </tr>\n",
       "    <tr>\n",
       "      <th>2720</th>\n",
       "      <td>7493</td>\n",
       "      <td>2021-07</td>\n",
       "      <td>-20.96</td>\n",
       "    </tr>\n",
       "  </tbody>\n",
       "</table>\n",
       "<p>2721 rows × 3 columns</p>\n",
       "</div>"
      ],
      "text/plain": [
       "      cust_id    month  closing_balances\n",
       "0           1  2021-07           1069.14\n",
       "1           2  2021-07           -195.43\n",
       "2           7  2021-07           -289.10\n",
       "3          14  2021-07            383.91\n",
       "4          17  2021-07           -251.36\n",
       "...       ...      ...               ...\n",
       "2716     7487  2021-07           -186.17\n",
       "2717     7489  2021-07            656.03\n",
       "2718     7491  2021-07            -56.89\n",
       "2719     7492  2021-07           -164.94\n",
       "2720     7493  2021-07            -20.96\n",
       "\n",
       "[2721 rows x 3 columns]"
      ]
     },
     "execution_count": 26,
     "metadata": {},
     "output_type": "execute_result"
    }
   ],
   "source": [
    "# SQL query to calculate the closing balance of all customers\n",
    "closing_balances_all_cust = pd.read_sql_query('''WITH first_balance as (\n",
    "  select strftime('%Y-%m', report_date) as month, balance_issued as opening_balance,\n",
    "         cust_id\n",
    "  from balance\n",
    "  GROUP BY cust_id \n",
    "),\n",
    "monthly_balances AS (\n",
    "  SELECT strftime('%Y-%m', transaction_date) AS month,\n",
    "         cust_id,\n",
    "         SUM(CASE WHEN transaction_type = 'accountpayment' THEN amount_in_pounds ELSE -amount_in_pounds END) AS transaction_sum\n",
    "  FROM transactions \n",
    "  GROUP BY month, cust_id\n",
    "),\n",
    "calculated_balances AS (\n",
    "  SELECT mb.month,\n",
    "         mb.cust_id,\n",
    "         COALESCE(SUM(mb.transaction_sum) OVER (PARTITION BY mb.cust_id ORDER BY mb.month), 0) AS almost_closing_balance\n",
    "  FROM monthly_balances as mb\n",
    "),\n",
    "definitive_closing_balance as (\n",
    "  select cb1.month, \n",
    "         cb1.cust_id,\n",
    "         (fb1.opening_balance + cb1.almost_closing_balance) as closing_balances\n",
    "  from first_balance as fb1\n",
    "  join calculated_balances as cb1\n",
    "  on fb1.cust_id = cb1.cust_id\n",
    ")\n",
    "SELECT dcb.cust_id, dcb.month, dcb.closing_balances\n",
    "FROM definitive_closing_balance as dcb\n",
    "where dcb.month = '2021-07'\n",
    "ORDER BY dcb.cust_id, dcb.month;''', cnx)\n",
    "\n",
    "closing_balances_all_cust"
   ]
  },
  {
   "cell_type": "code",
   "execution_count": 27,
   "id": "4541c060",
   "metadata": {},
   "outputs": [
    {
     "data": {
      "text/html": [
       "<div>\n",
       "<style scoped>\n",
       "    .dataframe tbody tr th:only-of-type {\n",
       "        vertical-align: middle;\n",
       "    }\n",
       "\n",
       "    .dataframe tbody tr th {\n",
       "        vertical-align: top;\n",
       "    }\n",
       "\n",
       "    .dataframe thead th {\n",
       "        text-align: right;\n",
       "    }\n",
       "</style>\n",
       "<table border=\"1\" class=\"dataframe\">\n",
       "  <thead>\n",
       "    <tr style=\"text-align: right;\">\n",
       "      <th></th>\n",
       "      <th>cust_id</th>\n",
       "      <th>month</th>\n",
       "      <th>closing_balances</th>\n",
       "    </tr>\n",
       "  </thead>\n",
       "  <tbody>\n",
       "    <tr>\n",
       "      <th>0</th>\n",
       "      <td>1</td>\n",
       "      <td>2021-07</td>\n",
       "      <td>884.261</td>\n",
       "    </tr>\n",
       "    <tr>\n",
       "      <th>1</th>\n",
       "      <td>2</td>\n",
       "      <td>2021-07</td>\n",
       "      <td>-322.690</td>\n",
       "    </tr>\n",
       "    <tr>\n",
       "      <th>2</th>\n",
       "      <td>7</td>\n",
       "      <td>2021-07</td>\n",
       "      <td>-437.622</td>\n",
       "    </tr>\n",
       "    <tr>\n",
       "      <th>3</th>\n",
       "      <td>14</td>\n",
       "      <td>2021-07</td>\n",
       "      <td>274.357</td>\n",
       "    </tr>\n",
       "    <tr>\n",
       "      <th>4</th>\n",
       "      <td>17</td>\n",
       "      <td>2021-07</td>\n",
       "      <td>-390.048</td>\n",
       "    </tr>\n",
       "    <tr>\n",
       "      <th>...</th>\n",
       "      <td>...</td>\n",
       "      <td>...</td>\n",
       "      <td>...</td>\n",
       "    </tr>\n",
       "    <tr>\n",
       "      <th>2716</th>\n",
       "      <td>7487</td>\n",
       "      <td>2021-07</td>\n",
       "      <td>-270.310</td>\n",
       "    </tr>\n",
       "    <tr>\n",
       "      <th>2717</th>\n",
       "      <td>7489</td>\n",
       "      <td>2021-07</td>\n",
       "      <td>343.301</td>\n",
       "    </tr>\n",
       "    <tr>\n",
       "      <th>2718</th>\n",
       "      <td>7491</td>\n",
       "      <td>2021-07</td>\n",
       "      <td>-175.226</td>\n",
       "    </tr>\n",
       "    <tr>\n",
       "      <th>2719</th>\n",
       "      <td>7492</td>\n",
       "      <td>2021-07</td>\n",
       "      <td>-294.243</td>\n",
       "    </tr>\n",
       "    <tr>\n",
       "      <th>2720</th>\n",
       "      <td>7493</td>\n",
       "      <td>2021-07</td>\n",
       "      <td>-74.900</td>\n",
       "    </tr>\n",
       "  </tbody>\n",
       "</table>\n",
       "<p>2721 rows × 3 columns</p>\n",
       "</div>"
      ],
      "text/plain": [
       "      cust_id    month  closing_balances\n",
       "0           1  2021-07           884.261\n",
       "1           2  2021-07          -322.690\n",
       "2           7  2021-07          -437.622\n",
       "3          14  2021-07           274.357\n",
       "4          17  2021-07          -390.048\n",
       "...       ...      ...               ...\n",
       "2716     7487  2021-07          -270.310\n",
       "2717     7489  2021-07           343.301\n",
       "2718     7491  2021-07          -175.226\n",
       "2719     7492  2021-07          -294.243\n",
       "2720     7493  2021-07           -74.900\n",
       "\n",
       "[2721 rows x 3 columns]"
      ]
     },
     "execution_count": 27,
     "metadata": {},
     "output_type": "execute_result"
    }
   ],
   "source": [
    "# SQL query to calculate the closing balance of all customers with a 10% price increase at the end of July 2020\n",
    "price_increase_closing_balances = pd.read_sql_query('''WITH first_balance as (\n",
    "  select strftime('%Y-%m', report_date) as month, balance_issued as opening_balance,\n",
    "         cust_id\n",
    "  from balance\n",
    "  GROUP BY cust_id \n",
    "),\n",
    "monthly_balances AS (\n",
    "  SELECT strftime('%Y-%m', transaction_date) AS month,\n",
    "         cust_id,\n",
    "         SUM(CASE WHEN transaction_type = 'accountpayment' THEN amount_in_pounds ELSE -amount_in_pounds * 1.1 END) AS transaction_sum\n",
    "  FROM transactions \n",
    "  GROUP BY month, cust_id\n",
    "),\n",
    "calculated_balances AS (\n",
    "  SELECT mb.month,\n",
    "         mb.cust_id,\n",
    "         COALESCE(SUM(mb.transaction_sum) OVER (PARTITION BY mb.cust_id ORDER BY mb.month), 0) AS almost_closing_balance\n",
    "  FROM monthly_balances as mb\n",
    "),\n",
    "definitive_closing_balance as (\n",
    "  select cb1.month, \n",
    "         cb1.cust_id,\n",
    "         (fb1.opening_balance + cb1.almost_closing_balance) as closing_balances\n",
    "  from first_balance as fb1\n",
    "  join calculated_balances as cb1\n",
    "  on fb1.cust_id = cb1.cust_id\n",
    ")\n",
    "SELECT dcb.cust_id, dcb.month, dcb.closing_balances\n",
    "FROM definitive_closing_balance as dcb\n",
    "where dcb.month = '2021-07'\n",
    "ORDER BY dcb.cust_id, dcb.month;''', cnx)\n",
    "\n",
    "price_increase_closing_balances"
   ]
  },
  {
   "cell_type": "code",
   "execution_count": 28,
   "id": "7b1d302f",
   "metadata": {
    "scrolled": false
   },
   "outputs": [
    {
     "data": {
      "text/html": [
       "<div>\n",
       "<style scoped>\n",
       "    .dataframe tbody tr th:only-of-type {\n",
       "        vertical-align: middle;\n",
       "    }\n",
       "\n",
       "    .dataframe tbody tr th {\n",
       "        vertical-align: top;\n",
       "    }\n",
       "\n",
       "    .dataframe thead th {\n",
       "        text-align: right;\n",
       "    }\n",
       "</style>\n",
       "<table border=\"1\" class=\"dataframe\">\n",
       "  <thead>\n",
       "    <tr style=\"text-align: right;\">\n",
       "      <th></th>\n",
       "      <th>cust_id</th>\n",
       "      <th>month_closing</th>\n",
       "      <th>closing_balance</th>\n",
       "      <th>closing_balance_price_increase</th>\n",
       "    </tr>\n",
       "  </thead>\n",
       "  <tbody>\n",
       "    <tr>\n",
       "      <th>0</th>\n",
       "      <td>1</td>\n",
       "      <td>2021-07</td>\n",
       "      <td>1069.14</td>\n",
       "      <td>884.261</td>\n",
       "    </tr>\n",
       "    <tr>\n",
       "      <th>1</th>\n",
       "      <td>2</td>\n",
       "      <td>2021-07</td>\n",
       "      <td>-195.43</td>\n",
       "      <td>-322.690</td>\n",
       "    </tr>\n",
       "    <tr>\n",
       "      <th>2</th>\n",
       "      <td>7</td>\n",
       "      <td>2021-07</td>\n",
       "      <td>-289.10</td>\n",
       "      <td>-437.622</td>\n",
       "    </tr>\n",
       "    <tr>\n",
       "      <th>3</th>\n",
       "      <td>14</td>\n",
       "      <td>2021-07</td>\n",
       "      <td>383.91</td>\n",
       "      <td>274.357</td>\n",
       "    </tr>\n",
       "    <tr>\n",
       "      <th>4</th>\n",
       "      <td>17</td>\n",
       "      <td>2021-07</td>\n",
       "      <td>-251.36</td>\n",
       "      <td>-390.048</td>\n",
       "    </tr>\n",
       "    <tr>\n",
       "      <th>...</th>\n",
       "      <td>...</td>\n",
       "      <td>...</td>\n",
       "      <td>...</td>\n",
       "      <td>...</td>\n",
       "    </tr>\n",
       "    <tr>\n",
       "      <th>2716</th>\n",
       "      <td>7487</td>\n",
       "      <td>2021-07</td>\n",
       "      <td>-186.17</td>\n",
       "      <td>-270.310</td>\n",
       "    </tr>\n",
       "    <tr>\n",
       "      <th>2717</th>\n",
       "      <td>7489</td>\n",
       "      <td>2021-07</td>\n",
       "      <td>656.03</td>\n",
       "      <td>343.301</td>\n",
       "    </tr>\n",
       "    <tr>\n",
       "      <th>2718</th>\n",
       "      <td>7491</td>\n",
       "      <td>2021-07</td>\n",
       "      <td>-56.89</td>\n",
       "      <td>-175.226</td>\n",
       "    </tr>\n",
       "    <tr>\n",
       "      <th>2719</th>\n",
       "      <td>7492</td>\n",
       "      <td>2021-07</td>\n",
       "      <td>-164.94</td>\n",
       "      <td>-294.243</td>\n",
       "    </tr>\n",
       "    <tr>\n",
       "      <th>2720</th>\n",
       "      <td>7493</td>\n",
       "      <td>2021-07</td>\n",
       "      <td>-20.96</td>\n",
       "      <td>-74.900</td>\n",
       "    </tr>\n",
       "  </tbody>\n",
       "</table>\n",
       "<p>2721 rows × 4 columns</p>\n",
       "</div>"
      ],
      "text/plain": [
       "      cust_id month_closing  closing_balance  closing_balance_price_increase\n",
       "0           1       2021-07          1069.14                         884.261\n",
       "1           2       2021-07          -195.43                        -322.690\n",
       "2           7       2021-07          -289.10                        -437.622\n",
       "3          14       2021-07           383.91                         274.357\n",
       "4          17       2021-07          -251.36                        -390.048\n",
       "...       ...           ...              ...                             ...\n",
       "2716     7487       2021-07          -186.17                        -270.310\n",
       "2717     7489       2021-07           656.03                         343.301\n",
       "2718     7491       2021-07           -56.89                        -175.226\n",
       "2719     7492       2021-07          -164.94                        -294.243\n",
       "2720     7493       2021-07           -20.96                         -74.900\n",
       "\n",
       "[2721 rows x 4 columns]"
      ]
     },
     "execution_count": 28,
     "metadata": {},
     "output_type": "execute_result"
    }
   ],
   "source": [
    "# Combine the closing balances and closing balances with a 10% price increase in a single data frame\n",
    "balances_and_balances_price_increase = pd.DataFrame().assign(cust_id = closing_balances_all_cust['cust_id'], \n",
    "                                                                             month_closing = closing_balances_all_cust['month'],\n",
    "                                                                             closing_balance = closing_balances_all_cust['closing_balances'],\n",
    "                                                                             closing_balance_price_increase = price_increase_closing_balances['closing_balances'])\n",
    "\n",
    "balances_and_balances_price_increase"
   ]
  },
  {
   "cell_type": "code",
   "execution_count": 29,
   "id": "60c16b9e",
   "metadata": {
    "scrolled": false
   },
   "outputs": [
    {
     "data": {
      "image/png": "[encoded data removed]",
      "text/plain": [
       "<Figure size 1000x600 with 1 Axes>"
      ]
     },
     "metadata": {},
     "output_type": "display_data"
    }
   ],
   "source": [
    "# Calculation of the amount of non-debtor and debtors customers without price increase\n",
    "non_debtors = balances_and_balances_price_increase[balances_and_balances_price_increase['closing_balance'] > 0]\n",
    "debtors = balances_and_balances_price_increase[balances_and_balances_price_increase['closing_balance'] < 0]\n",
    "\n",
    "non_debtors_count = non_debtors.shape[0]\n",
    "debtors_count = debtors.shape[0]\n",
    "\n",
    "# Calculation of the amount of non-debtor and debtors customers with a 10% price increase\n",
    "non_debtors_price_increase = balances_and_balances_price_increase[balances_and_balances_price_increase['closing_balance_price_increase'] > 0]\n",
    "debtors_price_increase = balances_and_balances_price_increase[balances_and_balances_price_increase['closing_balance_price_increase'] < 0]\n",
    "\n",
    "non_debtors_price_increase_count = non_debtors_price_increase.shape[0]\n",
    "debtors_price_increase_count = debtors_price_increase.shape[0]\n",
    "\n",
    "# Bar plot to show the proportion of customers who would become debtors with a price increase of 10%.\n",
    "labels = ['Non-debtors', 'Debtors']\n",
    "counts = [non_debtors_count, debtors_count]\n",
    "\n",
    "labels1 = ['Non-debtors with price increase', 'Debtors with price increase']\n",
    "counts1 = [non_debtors_price_increase_count, debtors_price_increase_count]\n",
    "\n",
    "plt.figure(figsize=(10,6))\n",
    "plt.bar(labels, counts, width=0.4, align='center')\n",
    "plt.bar(labels1, counts1, width=0.4, align='center')\n",
    "\n",
    "# Data for the plot\n",
    "plt.ylabel('Amount of customers')\n",
    "plt.title('Numer of debtors at July 2021 closing balance and the number that would have been debtors with 10% price increase.', fontweight='bold', fontsize=11)\n",
    "plt.text(x=-0.09, y=1520, s=counts[0], fontweight='bold')\n",
    "plt.text(x=0.91, y=1218, s=counts[1], fontweight='bold')\n",
    "plt.text(x=1.95, y=980, s=counts1[0], fontweight='bold')\n",
    "plt.text(x=2.91, y=1761, s=counts1[1], fontweight='bold');"
   ]
  },
  {
   "cell_type": "markdown",
   "id": "112d8e19",
   "metadata": {},
   "source": [
    "### Conclusions of the analysis with respect to question 4\n",
    "\n",
    "The graph shows that in the real situation (without the 10% increase in prices) the percentage of debtor customers at the closing balance of July 2021 is 44.40% of the total number of customers.\n",
    "\n",
    "In the hypothetical scenario of a 10% price increase at the end of July 2020, the percentage of customers that would have become debtors at the closing balance of July 2021 would be 64.35% of the total, which would represent an increase of almost 20% of debtor customers."
   ]
  },
  {
   "cell_type": "markdown",
   "id": "223dcd08",
   "metadata": {},
   "source": [
    "### If you have time, the management team would like to understand which customers are paying the correct Direct Debit amount (note this only applies to Fixed Direct Debit customers)"
   ]
  },
  {
   "cell_type": "code",
   "execution_count": 30,
   "id": "deacd669",
   "metadata": {},
   "outputs": [
    {
     "data": {
      "text/html": [
       "<div>\n",
       "<style scoped>\n",
       "    .dataframe tbody tr th:only-of-type {\n",
       "        vertical-align: middle;\n",
       "    }\n",
       "\n",
       "    .dataframe tbody tr th {\n",
       "        vertical-align: top;\n",
       "    }\n",
       "\n",
       "    .dataframe thead th {\n",
       "        text-align: right;\n",
       "    }\n",
       "</style>\n",
       "<table border=\"1\" class=\"dataframe\">\n",
       "  <thead>\n",
       "    <tr style=\"text-align: right;\">\n",
       "      <th></th>\n",
       "      <th>cust_id</th>\n",
       "      <th>month</th>\n",
       "      <th>transactions_balance</th>\n",
       "    </tr>\n",
       "  </thead>\n",
       "  <tbody>\n",
       "  </tbody>\n",
       "</table>\n",
       "</div>"
      ],
      "text/plain": [
       "Empty DataFrame\n",
       "Columns: [cust_id, month, transactions_balance]\n",
       "Index: []"
      ]
     },
     "execution_count": 30,
     "metadata": {},
     "output_type": "execute_result"
    }
   ],
   "source": [
    "# SQL query to show which customers are paying the correct Direct Debit amount\n",
    "cust_paying_correct_debit = pd.read_sql_query('''WITH fixed_cust AS (\n",
    "  SELECT cust_id\n",
    "  FROM balance\n",
    "  WHERE payment_method = 'Fixed DD'\n",
    "),\n",
    "monthly_balances AS (\n",
    "  SELECT strftime('%Y-%m', transaction_date) AS month,\n",
    "         cust_id,\n",
    "         SUM(CASE WHEN transaction_type = 'accountpayment' THEN amount_in_pounds ELSE -amount_in_pounds END) AS transaction_sum\n",
    "  FROM transactions \n",
    "  GROUP BY month, cust_id\n",
    "),\n",
    "calculated_balances AS (\n",
    "  SELECT mb.month,\n",
    "         mb.cust_id,\n",
    "         COALESCE(SUM(mb.transaction_sum) OVER (PARTITION BY mb.cust_id ORDER BY mb.month), 0) AS transactions_balance\n",
    "  FROM monthly_balances AS mb\n",
    ")\n",
    "SELECT fc.cust_id, cb.month, cb.transactions_balance\n",
    "FROM fixed_cust AS fc\n",
    "JOIN calculated_balances AS cb ON fc.cust_id = cb.cust_id\n",
    "/*WHERE cb.month = '2021-07'*/\n",
    "where cb.transactions_balance = 0\n",
    "ORDER BY fc.cust_id, cb.month;''', cnx)\n",
    "\n",
    "cust_paying_correct_debit"
   ]
  },
  {
   "cell_type": "markdown",
   "id": "48814fa9",
   "metadata": {},
   "source": [
    "If by customers who are paying the correct Direct Debit amount the management team means those who pay exactly the amount they are charged for the service, the answer is that I could not find any, because when I consulted the database for the balance of charges and payments by month, none of them gave me exactly zero, only some customers in some months came close to zero but it was never exactly zero."
   ]
  },
  {
   "cell_type": "markdown",
   "id": "7ed49322",
   "metadata": {},
   "source": [
    "### For the customers in question 3, part b) of those which are paying insufficient amounts, what value should the payment amount be increased to so that the closing balance in July 2021 is not less than the opening balance in July 2020? When do you think would be the best time of year to change the payment amount?"
   ]
  },
  {
   "cell_type": "markdown",
   "id": "08f76416",
   "metadata": {},
   "source": [
    "To answer this question the code used to calculate the closing balances in question 3 part b) can and modify in this specific section: ( SUM(CASE WHEN transaction_type = 'accountpayment' THEN amount_in_pounds ELSE -amount_in_pounds END) AS transaction_sum) adding a multiplication to the first amount_in_pounds to return the result of the closing balance with the increase in accountpayment that we indicate.\n",
    "\n",
    "Specifically I was testing with different values until the closing balance of each one of the clients was above the opening balance of July 2020.\n",
    "\n",
    "To have a closing balance in July 2021 higher than the opening balance in July 2020 the payments should be increased by:\n",
    "* 19.88% for the customer with cust_id = 927\n",
    "* 2.70% for customer with cust_id =1337\n",
    "* 1.65% for customer with cust_id = 3217\n",
    "* 16.10% for the customer with cust_id = 4718\n",
    "\n",
    "***Regarding the moment at which it would be better to increase payments:***\n",
    "\n",
    "Based on what I could observe from the data in the monthly balances, I believe that the best time to increase the value of the payments is in late fall or early winter, approximately between October and December, mainly because in the winter months historically more energy is consumed and it is essential for the customers, also according to the monthly balance data, approximately 75% of customers are with a positive balance in the month of November, being one of the months with the highest number of customers with a positive balance, This could help reduce a possible negative response from customers to the increased value of the payments they are required to make.\n",
    "\n",
    "Another good reason to increase payments in those months could be to help reduce inefficient energy consumption, since when prices go up people tend to be more careful with their consumption and thus reduce the impact this has on emissions."
   ]
  }
 ],
 "metadata": {
  "kernelspec": {
   "display_name": "Python 3 (ipykernel)",
   "language": "python",
   "name": "python3"
  },
  "language_info": {
   "codemirror_mode": {
    "name": "ipython",
    "version": 3
   },
   "file_extension": ".py",
   "mimetype": "text/x-python",
   "name": "python",
   "nbconvert_exporter": "python",
   "pygments_lexer": "ipython3",
   "version": "3.10.8"
  }
 },
 "nbformat": 4,
 "nbformat_minor": 5
}
